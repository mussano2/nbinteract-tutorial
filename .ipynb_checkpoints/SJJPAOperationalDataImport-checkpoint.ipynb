{
 "cells": [
  {
   "cell_type": "markdown",
   "metadata": {
    "extensions": {
     "jupyter_dashboards": {
      "version": 1,
      "views": {
       "grid_default": {},
       "report_default": {
        "hidden": false
       }
      }
     }
    }
   },
   "source": [
    "# Dwells broken down by train "
   ]
  },
  {
   "cell_type": "markdown",
   "metadata": {
    "extensions": {
     "jupyter_dashboards": {
      "version": 1,
      "views": {
       "grid_default": {},
       "report_default": {
        "hidden": false
       }
      }
     }
    }
   },
   "source": [
    "Load data"
   ]
  },
  {
   "cell_type": "code",
   "execution_count": 1,
   "metadata": {
    "extensions": {
     "jupyter_dashboards": {
      "version": 1,
      "views": {
       "grid_default": {},
       "report_default": {
        "hidden": true
       }
      }
     }
    }
   },
   "outputs": [],
   "source": [
    "import zipfile\n",
    "import pandas as pd\n",
    "import datetime as dt\n",
    "import numpy as np\n",
    "import seaborn as sns\n",
    "%matplotlib qt"
   ]
  },
  {
   "cell_type": "code",
   "execution_count": 2,
   "metadata": {
    "extensions": {
     "jupyter_dashboards": {
      "version": 1,
      "views": {
       "grid_default": {},
       "report_default": {
        "hidden": false
       }
      }
     }
    }
   },
   "outputs": [],
   "source": [
    "df = pd.read_excel(\"SJQ_TrainStationStudy_030118-022819.xlsx\",header =4)\n",
    "df.drop([\"Arr\",\"Dep\"], axis=1, inplace=True)\n",
    "# df.set_index(['Index Dt','Train','Station'],inplace=True)\n",
    "df.columns = [\"Date\",\"Train_Number\",\"Station\",\"Arrival_Date_Time\",\n",
    "               \"Departure_Date_Time\"]\n",
    "\n",
    "# df.head()"
   ]
  },
  {
   "cell_type": "code",
   "execution_count": 3,
   "metadata": {
    "extensions": {
     "jupyter_dashboards": {
      "version": 1,
      "views": {
       "grid_default": {},
       "report_default": {
        "hidden": false
       }
      }
     }
    },
    "scrolled": true
   },
   "outputs": [],
   "source": [
    "df.sort_values(by=['Train_Number','Date', 'Arrival_Date_Time'], inplace=True,na_position='first')\n",
    "df[\"Dwell\"] = df.Departure_Date_Time - df.Arrival_Date_Time\n",
    "df['Runtime'] = df.Arrival_Date_Time - df.Departure_Date_Time.shift()\n",
    "df.loc[df['Runtime'] > pd.Timedelta(.5,unit=\"D\"),\"Runtime\"] = pd.NaT\n",
    "df.loc[df['Runtime'] < pd.Timedelta(1,unit=\"s\"),\"Runtime\"] = pd.NaT\n",
    "df.reset_index(inplace = True,drop=True)\n",
    "# df"
   ]
  },
  {
   "cell_type": "code",
   "execution_count": 4,
   "metadata": {
    "extensions": {
     "jupyter_dashboards": {
      "version": 1,
      "views": {
       "grid_default": {},
       "report_default": {
        "hidden": true
       }
      }
     }
    }
   },
   "outputs": [
    {
     "name": "stdout",
     "output_type": "stream",
     "text": [
      "Extracting list data\n",
      "Data load complete\n",
      "(69924, 4)\n"
     ]
    }
   ],
   "source": [
    "print(\"Extracting list data\")\n",
    "\n",
    "StationNames = list(df.Station.unique())\n",
    "StationNames = [x for x in StationNames if str(x)!= 'nan']\n",
    "StationNames.sort()\n",
    "TrainNumbers = list(df.Train_Number.unique())\n",
    "StationNames = [x for x in StationNames if str(x)!= 'nan']\n",
    "TrainNumbers.sort()\n",
    "DateNumbers = list(df.Date.unique())\n",
    "StationNames = [x for x in StationNames if str(x)!= 'nan']\n",
    "DateNumbers.sort()\n",
    "\n",
    "print(\"Data load complete\")\n",
    "    \n",
    "#     for col in list(df)[2:5,7]\n",
    "#     df[col]= pd.D\n",
    "start_date = min(df['Date'])\n",
    "end_date = max(df['Date'])\n",
    "df.set_index(['Train_Number','Station','Date'],inplace = True)\n",
    "df.sort_values(by=[\"Train_Number\",\"Date\",'Arrival_Date_Time'])\n",
    "print(df.shape)\n",
    "# df"
   ]
  },
  {
   "cell_type": "markdown",
   "metadata": {
    "extensions": {
     "jupyter_dashboards": {
      "version": 1,
      "views": {
       "grid_default": {},
       "report_default": {
        "hidden": false
       }
      }
     }
    }
   },
   "source": [
    "Data is loaded for BNSF line only"
   ]
  },
  {
   "cell_type": "code",
   "execution_count": 8,
   "metadata": {
    "extensions": {
     "jupyter_dashboards": {
      "version": 1,
      "views": {
       "grid_default": {},
       "report_default": {
        "hidden": true
       }
      }
     }
    }
   },
   "outputs": [],
   "source": [
    "import matplotlib.pyplot as plt\n",
    "from matplotlib.ticker import (MultipleLocator, FormatStrFormatter,\n",
    "                               AutoMinorLocator)\n",
    "import seaborn as sns\n",
    "plt.style.use('ggplot')\n",
    "# df.dropna(inplace = True)\n",
    "from scipy.stats import describe\n",
    "from __future__ import print_function\n",
    "from ipywidgets import interact, interactive, fixed, interact_manual,SelectionRangeSlider\n",
    "from ipywidgets import Button, HBox, VBox\n",
    "import ipywidgets as widgets\n",
    "from IPython.display import display\n",
    "\n",
    "%matplotlib inline"
   ]
  },
  {
   "cell_type": "code",
   "execution_count": 9,
   "metadata": {
    "extensions": {
     "jupyter_dashboards": {
      "version": 1,
      "views": {
       "grid_default": {},
       "report_default": {
        "hidden": false
       }
      }
     }
    },
    "scrolled": false
   },
   "outputs": [
    {
     "data": {
      "application/vnd.jupyter.widget-view+json": {
       "model_id": "8939d8e9d2f5410f890fe3b700194cfd",
       "version_major": 2,
       "version_minor": 0
      },
      "text/plain": [
       "interactive(children=(Dropdown(description='Train Number:', index=5, options=(701, 702, 703, 704, 710, 711, 71…"
      ]
     },
     "metadata": {},
     "output_type": "display_data"
    }
   ],
   "source": [
    "start_date = start_date\n",
    "end_date = end_date\n",
    "\n",
    "dates = pd.date_range(start_date, end_date, freq='D')\n",
    "\n",
    "options = [(date.strftime(' %d %b %Y '), date) for date in dates]\n",
    "index = (0, len(options)-1)\n",
    "\n",
    "ml = MultipleLocator(5)\n",
    "\n",
    "\n",
    "\n",
    "@interact(vl = widgets.Dropdown(options=[\"Minutes\",\"Seconds\"],\n",
    "#                                 value=1200.0, \n",
    "                                description='Scale:',\n",
    "                                disabled=False),\n",
    "    tr = widgets.Dropdown(options=TrainNumbers,\n",
    "                                value=711, \n",
    "                                description='Train Number:',\n",
    "                                disabled=False),\n",
    "          st = widgets.Dropdown(options=StationNames,\n",
    "                                value='ACA', \n",
    "                                description='Station:',\n",
    "                                disabled=False),\n",
    "          bb = widgets.IntSlider(min=10,max=100,step=1,value=50,description='Bins',continuous_update = False,),\n",
    "          zoom = widgets.IntRangeSlider(\n",
    "              value = [0,50],\n",
    "              min = 0,\n",
    "              max=500,\n",
    "              step = 10,\n",
    "              description = \"Zoom Level\",\n",
    "              disabled = False,\n",
    "              continuous_update = False,\n",
    "              layout={'width': '500px'}\n",
    "          ),\n",
    "          sld = widgets.SelectionRangeSlider(\n",
    "              options=options,index=index,description='Dates',\n",
    "              orientation='horizontal',\n",
    "              continuous_update = False,\n",
    "              layout={'width': '500px'}\n",
    "          ),\n",
    "        run=[\"Runtime\",\"Dwell\"],\n",
    "         disptype=[False,True]\n",
    "         )\n",
    "\n",
    "\n",
    "\n",
    "\n",
    "def histoplot(tr,st,bb,sld,run,disptype,zoom,vl):\n",
    "   \n",
    "        \n",
    "    \n",
    "    fig = plt.figure(figsize=(16, 9))\n",
    "    ax = fig.add_subplot(111)\n",
    "#     print(pd.Timestamp(sld[0]),pd.Timestamp(sld[1]))\n",
    "    if vl == \"Seconds\":\n",
    "        out = df.xs((tr, st),level=[0, 'Station'])[run].dt.seconds.sort_index()\n",
    "        time = \" (secs)\"\n",
    "    else:\n",
    "        out = df.xs((tr, st),level=[0, 'Station'])[run].dt.seconds.sort_index()/60\n",
    "        time = \" (mins)\"\n",
    "    out =out.loc[pd.Timestamp(sld[0]):pd.Timestamp(sld[1])]\n",
    "    out = out[~np.isnan(out)]\n",
    "#     out.plot.density(ax=ax)\n",
    "#     sns.distplot(out, hist=True, kde=True, \n",
    "#              bins=bb, color = 'darkblue', \n",
    "#              hist_kws={'edgecolor':'black'},\n",
    "#              kde_kws={'linewidth': 4})\n",
    "\n",
    "    \n",
    "    ax.hist(x = out,  range=zoom, bins = bb,cumulative = disptype)\n",
    "    \n",
    "#     ax = sns.distplot(out)\n",
    "    ax.xaxis.set_minor_locator(ml)\n",
    "    plt.grid(b=True, which='minor')\n",
    "    plt.xlabel(run + time)\n",
    "    plt.ylabel(\"Observations\")\n",
    "    plt.title(run +\" observed at \"+ st +\" for \"+ str(tr) )\n",
    "    desc =pd.DataFrame(out.describe(percentiles =[.05,.25, .5, .75,.95]))\n",
    "    mod = pd.Series.to_frame(out.mode())\n",
    "#     mod.columns =(run)\n",
    "    \n",
    "    mod.rename(index={0:'mode'},columns={0: run}, inplace=True)\n",
    "    desc = pd.concat([desc,mod], ignore_index=False)\n",
    "    desc[run] = desc[run].astype(int, errors='ignore')\n",
    "    display(desc.T)\n",
    "#     display(out)\n",
    "    \n",
    "#     plt.show()\n",
    "# fig.show()\n",
    "#     return (out)"
   ]
  },
  {
   "cell_type": "code",
   "execution_count": 7,
   "metadata": {
    "extensions": {
     "jupyter_dashboards": {
      "version": 1,
      "views": {
       "grid_default": {},
       "report_default": {
        "hidden": false
       }
      }
     }
    }
   },
   "outputs": [],
   "source": [
    "ab = df.xs(1718)[\"Runtime\"].dt.seconds.sort_index()/60\n",
    "df.to_csv(\"data.csv\")\n",
    "# df.xs(1251.0,level=0).to_csv(\"data\")"
   ]
  },
  {
   "cell_type": "code",
   "execution_count": null,
   "metadata": {
    "extensions": {
     "jupyter_dashboards": {
      "version": 1,
      "views": {
       "grid_default": {},
       "report_default": {
        "hidden": true
       }
      }
     }
    }
   },
   "outputs": [],
   "source": []
  }
 ],
 "metadata": {
  "extensions": {
   "jupyter_dashboards": {
    "activeView": "report_default",
    "version": 1,
    "views": {
     "grid_default": {
      "name": "grid",
      "type": "grid"
     },
     "report_default": {
      "name": "report",
      "type": "report"
     }
    }
   }
  },
  "kernelspec": {
   "display_name": "Python 3",
   "language": "python",
   "name": "python3"
  },
  "language_info": {
   "codemirror_mode": {
    "name": "ipython",
    "version": 3
   },
   "file_extension": ".py",
   "mimetype": "text/x-python",
   "name": "python",
   "nbconvert_exporter": "python",
   "pygments_lexer": "ipython3",
   "version": "3.7.2"
  }
 },
 "nbformat": 4,
 "nbformat_minor": 2
}
